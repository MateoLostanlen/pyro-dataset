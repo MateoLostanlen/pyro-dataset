{
 "cells": [
  {
   "cell_type": "markdown",
   "metadata": {},
   "source": [
    "# Process and check annotations"
   ]
  },
  {
   "cell_type": "code",
   "execution_count": 1,
   "metadata": {},
   "outputs": [],
   "source": [
    "%load_ext autoreload\n",
    "%autoreload 1\n",
    "from pyrodataset.parse_annotations import AnnotationParser\n",
    "from pyrodataset.check_annotations import AnnotationChecker"
   ]
  },
  {
   "cell_type": "code",
   "execution_count": 3,
   "metadata": {},
   "outputs": [],
   "source": [
    "moviePath = '../Pyronear/Wildfire'\n",
    "annotationFile = 'test/test_3_videos.json'\n",
    "annotationPath = '/tmp/testAnnotations'"
   ]
  },
  {
   "cell_type": "code",
   "execution_count": 4,
   "metadata": {},
   "outputs": [
    {
     "name": "stdout",
     "output_type": "stream",
     "text": [
      "Writing csv files with keypoints and states to /tmp/testAnnotations\n",
      "Writing frame labels to /tmp/testAnnotations/test_3_videos.labels.csv\n",
      "Extracting 2 frames per state (10 in total) to /tmp/testAnnotations\n"
     ]
    }
   ],
   "source": [
    "parser = AnnotationParser(annotationFile, moviePath)\n",
    "parser.writeCsv(annotationPath)\n",
    "parser.writeFrames(annotationPath, nFrames=2, random=False)"
   ]
  },
  {
   "cell_type": "code",
   "execution_count": 5,
   "metadata": {
    "scrolled": false
   },
   "outputs": [
    {
     "data": {
      "application/vnd.jupyter.widget-view+json": {
       "model_id": "1819b5553f4b4bef8ca9c8a5fa606099",
       "version_major": 2,
       "version_minor": 0
      },
      "text/plain": [
       "Accordion(children=(Tab(children=(HBox(children=(Image(value=b'\\x89PNG\\r\\n\\x1a\\n\\x00\\x00\\x00\\rIHDR\\x00\\x00\\x05…"
      ]
     },
     "metadata": {},
     "output_type": "display_data"
    },
    {
     "data": {
      "application/vnd.jupyter.widget-view+json": {
       "model_id": "4b397018d1404c429a6482b486d4009b",
       "version_major": 2,
       "version_minor": 0
      },
      "text/plain": [
       "Button(button_style='info', description='Save', style=ButtonStyle(), tooltip='Write results to {self.outputfil…"
      ]
     },
     "metadata": {},
     "output_type": "display_data"
    },
    {
     "data": {
      "application/vnd.jupyter.widget-view+json": {
       "model_id": "503d956e33144ac3a1d38d87099dee17",
       "version_major": 2,
       "version_minor": 0
      },
      "text/plain": [
       "Output()"
      ]
     },
     "metadata": {},
     "output_type": "display_data"
    }
   ],
   "source": [
    "check = AnnotationChecker(annotationPath)"
   ]
  },
  {
   "cell_type": "code",
   "execution_count": 7,
   "metadata": {},
   "outputs": [
    {
     "data": {
      "text/html": [
       "<div>\n",
       "<style scoped>\n",
       "    .dataframe tbody tr th:only-of-type {\n",
       "        vertical-align: middle;\n",
       "    }\n",
       "\n",
       "    .dataframe tbody tr th {\n",
       "        vertical-align: top;\n",
       "    }\n",
       "\n",
       "    .dataframe thead th {\n",
       "        text-align: right;\n",
       "    }\n",
       "</style>\n",
       "<table border=\"1\" class=\"dataframe\">\n",
       "  <thead>\n",
       "    <tr style=\"text-align: right;\">\n",
       "      <th></th>\n",
       "      <th>fname</th>\n",
       "      <th>fBase</th>\n",
       "      <th>fps</th>\n",
       "      <th>fire</th>\n",
       "      <th>sequence</th>\n",
       "      <th>clf_confidence</th>\n",
       "      <th>loc_confidence</th>\n",
       "      <th>exploitable</th>\n",
       "      <th>x</th>\n",
       "      <th>y</th>\n",
       "      <th>t</th>\n",
       "      <th>stateStart</th>\n",
       "      <th>stateEnd</th>\n",
       "      <th>frame</th>\n",
       "      <th>imgFile</th>\n",
       "    </tr>\n",
       "  </thead>\n",
       "  <tbody>\n",
       "    <tr>\n",
       "      <td>0</td>\n",
       "      <td>10.mp4</td>\n",
       "      <td>10.mp4</td>\n",
       "      <td>25.0</td>\n",
       "      <td>1</td>\n",
       "      <td>0</td>\n",
       "      <td>1</td>\n",
       "      <td>2</td>\n",
       "      <td>True</td>\n",
       "      <td>598.974</td>\n",
       "      <td>467.692</td>\n",
       "      <td>1.320</td>\n",
       "      <td>33.0</td>\n",
       "      <td>71.0</td>\n",
       "      <td>33</td>\n",
       "      <td>10_frame33.png</td>\n",
       "    </tr>\n",
       "    <tr>\n",
       "      <td>1</td>\n",
       "      <td>10.mp4</td>\n",
       "      <td>10.mp4</td>\n",
       "      <td>25.0</td>\n",
       "      <td>1</td>\n",
       "      <td>0</td>\n",
       "      <td>1</td>\n",
       "      <td>2</td>\n",
       "      <td>True</td>\n",
       "      <td>598.974</td>\n",
       "      <td>467.692</td>\n",
       "      <td>1.320</td>\n",
       "      <td>33.0</td>\n",
       "      <td>71.0</td>\n",
       "      <td>71</td>\n",
       "      <td>10_frame71.png</td>\n",
       "    </tr>\n",
       "    <tr>\n",
       "      <td>2</td>\n",
       "      <td>10.mp4</td>\n",
       "      <td>10.mp4</td>\n",
       "      <td>25.0</td>\n",
       "      <td>1</td>\n",
       "      <td>1</td>\n",
       "      <td>1</td>\n",
       "      <td>0</td>\n",
       "      <td>True</td>\n",
       "      <td>873.846</td>\n",
       "      <td>500.513</td>\n",
       "      <td>15.564</td>\n",
       "      <td>389.0</td>\n",
       "      <td>466.0</td>\n",
       "      <td>389</td>\n",
       "      <td>10_frame389.png</td>\n",
       "    </tr>\n",
       "    <tr>\n",
       "      <td>3</td>\n",
       "      <td>10.mp4</td>\n",
       "      <td>10.mp4</td>\n",
       "      <td>25.0</td>\n",
       "      <td>1</td>\n",
       "      <td>1</td>\n",
       "      <td>1</td>\n",
       "      <td>0</td>\n",
       "      <td>True</td>\n",
       "      <td>873.846</td>\n",
       "      <td>500.513</td>\n",
       "      <td>15.564</td>\n",
       "      <td>389.0</td>\n",
       "      <td>466.0</td>\n",
       "      <td>466</td>\n",
       "      <td>10_frame466.png</td>\n",
       "    </tr>\n",
       "    <tr>\n",
       "      <td>4</td>\n",
       "      <td>10.mp4</td>\n",
       "      <td>10.mp4</td>\n",
       "      <td>25.0</td>\n",
       "      <td>0</td>\n",
       "      <td>2</td>\n",
       "      <td>1</td>\n",
       "      <td>0</td>\n",
       "      <td>True</td>\n",
       "      <td>724.103</td>\n",
       "      <td>449.231</td>\n",
       "      <td>19.779</td>\n",
       "      <td>494.0</td>\n",
       "      <td>501.0</td>\n",
       "      <td>494</td>\n",
       "      <td>10_frame494.png</td>\n",
       "    </tr>\n",
       "    <tr>\n",
       "      <td>5</td>\n",
       "      <td>10.mp4</td>\n",
       "      <td>10.mp4</td>\n",
       "      <td>25.0</td>\n",
       "      <td>0</td>\n",
       "      <td>2</td>\n",
       "      <td>1</td>\n",
       "      <td>0</td>\n",
       "      <td>True</td>\n",
       "      <td>724.103</td>\n",
       "      <td>449.231</td>\n",
       "      <td>19.779</td>\n",
       "      <td>494.0</td>\n",
       "      <td>501.0</td>\n",
       "      <td>501</td>\n",
       "      <td>10_frame501.png</td>\n",
       "    </tr>\n",
       "    <tr>\n",
       "      <td>6</td>\n",
       "      <td>10.mp4</td>\n",
       "      <td>10.mp4</td>\n",
       "      <td>25.0</td>\n",
       "      <td>1</td>\n",
       "      <td>3</td>\n",
       "      <td>1</td>\n",
       "      <td>2</td>\n",
       "      <td>True</td>\n",
       "      <td>939.487</td>\n",
       "      <td>244.103</td>\n",
       "      <td>28.191</td>\n",
       "      <td>705.0</td>\n",
       "      <td>972.0</td>\n",
       "      <td>705</td>\n",
       "      <td>10_frame705.png</td>\n",
       "    </tr>\n",
       "    <tr>\n",
       "      <td>7</td>\n",
       "      <td>10.mp4</td>\n",
       "      <td>10.mp4</td>\n",
       "      <td>25.0</td>\n",
       "      <td>1</td>\n",
       "      <td>3</td>\n",
       "      <td>1</td>\n",
       "      <td>2</td>\n",
       "      <td>True</td>\n",
       "      <td>939.487</td>\n",
       "      <td>244.103</td>\n",
       "      <td>28.191</td>\n",
       "      <td>705.0</td>\n",
       "      <td>972.0</td>\n",
       "      <td>972</td>\n",
       "      <td>10_frame972.png</td>\n",
       "    </tr>\n",
       "    <tr>\n",
       "      <td>8</td>\n",
       "      <td>19_seq0_591.mp4</td>\n",
       "      <td>19.mp4</td>\n",
       "      <td>25.0</td>\n",
       "      <td>1</td>\n",
       "      <td>0</td>\n",
       "      <td>0</td>\n",
       "      <td>2</td>\n",
       "      <td>True</td>\n",
       "      <td>568.205</td>\n",
       "      <td>358.974</td>\n",
       "      <td>2.261</td>\n",
       "      <td>57.0</td>\n",
       "      <td>591.0</td>\n",
       "      <td>57</td>\n",
       "      <td>19_frame57.png</td>\n",
       "    </tr>\n",
       "    <tr>\n",
       "      <td>9</td>\n",
       "      <td>19_seq0_591.mp4</td>\n",
       "      <td>19.mp4</td>\n",
       "      <td>25.0</td>\n",
       "      <td>1</td>\n",
       "      <td>0</td>\n",
       "      <td>0</td>\n",
       "      <td>2</td>\n",
       "      <td>True</td>\n",
       "      <td>568.205</td>\n",
       "      <td>358.974</td>\n",
       "      <td>2.261</td>\n",
       "      <td>57.0</td>\n",
       "      <td>591.0</td>\n",
       "      <td>591</td>\n",
       "      <td>19_frame591.png</td>\n",
       "    </tr>\n",
       "  </tbody>\n",
       "</table>\n",
       "</div>"
      ],
      "text/plain": [
       "             fname   fBase   fps  fire  sequence  clf_confidence  \\\n",
       "0           10.mp4  10.mp4  25.0     1         0               1   \n",
       "1           10.mp4  10.mp4  25.0     1         0               1   \n",
       "2           10.mp4  10.mp4  25.0     1         1               1   \n",
       "3           10.mp4  10.mp4  25.0     1         1               1   \n",
       "4           10.mp4  10.mp4  25.0     0         2               1   \n",
       "5           10.mp4  10.mp4  25.0     0         2               1   \n",
       "6           10.mp4  10.mp4  25.0     1         3               1   \n",
       "7           10.mp4  10.mp4  25.0     1         3               1   \n",
       "8  19_seq0_591.mp4  19.mp4  25.0     1         0               0   \n",
       "9  19_seq0_591.mp4  19.mp4  25.0     1         0               0   \n",
       "\n",
       "   loc_confidence  exploitable        x        y       t  stateStart  \\\n",
       "0               2         True  598.974  467.692   1.320        33.0   \n",
       "1               2         True  598.974  467.692   1.320        33.0   \n",
       "2               0         True  873.846  500.513  15.564       389.0   \n",
       "3               0         True  873.846  500.513  15.564       389.0   \n",
       "4               0         True  724.103  449.231  19.779       494.0   \n",
       "5               0         True  724.103  449.231  19.779       494.0   \n",
       "6               2         True  939.487  244.103  28.191       705.0   \n",
       "7               2         True  939.487  244.103  28.191       705.0   \n",
       "8               2         True  568.205  358.974   2.261        57.0   \n",
       "9               2         True  568.205  358.974   2.261        57.0   \n",
       "\n",
       "   stateEnd  frame          imgFile  \n",
       "0      71.0     33   10_frame33.png  \n",
       "1      71.0     71   10_frame71.png  \n",
       "2     466.0    389  10_frame389.png  \n",
       "3     466.0    466  10_frame466.png  \n",
       "4     501.0    494  10_frame494.png  \n",
       "5     501.0    501  10_frame501.png  \n",
       "6     972.0    705  10_frame705.png  \n",
       "7     972.0    972  10_frame972.png  \n",
       "8     591.0     57   19_frame57.png  \n",
       "9     591.0    591  19_frame591.png  "
      ]
     },
     "metadata": {},
     "output_type": "display_data"
    }
   ],
   "source": [
    "display(check.labels)"
   ]
  }
 ],
 "metadata": {
  "kernelspec": {
   "display_name": "Python 3 (ipykernel)",
   "language": "python",
   "name": "python3"
  },
  "language_info": {
   "codemirror_mode": {
    "name": "ipython",
    "version": 3
   },
   "file_extension": ".py",
   "mimetype": "text/x-python",
   "name": "python",
   "nbconvert_exporter": "python",
   "pygments_lexer": "ipython3",
   "version": "3.9.7"
  }
 },
 "nbformat": 4,
 "nbformat_minor": 2
}
